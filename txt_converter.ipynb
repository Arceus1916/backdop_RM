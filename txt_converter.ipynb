{
 "cells": [
  {
   "cell_type": "code",
   "execution_count": null,
   "metadata": {},
   "outputs": [],
   "source": [
    "def convert_conda_to_requirements(conda_file, requirements_file):\n",
    "    with open(conda_file, 'r') as f:\n",
    "        lines = f.readlines()\n",
    "\n",
    "    with open(requirements_file, 'w') as f:\n",
    "        for line in lines:\n",
    "            # Skip lines that are not package lines or are comments\n",
    "            if line.startswith(\"#\") or line.startswith(\"platform\") or line.startswith(\"_\"):\n",
    "                continue\n",
    "            \n",
    "            # Split the line into package name and version\n",
    "            package_info = line.split('=')\n",
    "            package_name = package_info[0]\n",
    "            \n",
    "            # Write in 'package_name==version' format\n",
    "            if len(package_info) > 1:\n",
    "                version_info = package_info[1].split('=')\n",
    "                if len(version_info) > 1:\n",
    "                    # Get the version number (ignoring build info)\n",
    "                    version_number = version_info[0]\n",
    "                    f.write(f\"{package_name}=={version_number}\\n\")\n",
    "                else:\n",
    "                    f.write(f\"{package_name}\\n\")\n",
    "            else:\n",
    "                f.write(f\"{package_name}\\n\")\n",
    "\n",
    "# Specify the path to the Conda export file and the desired requirements.txt file\n",
    "conda_file = 'path/to/your/conda_export.txt'  # Update this path\n",
    "requirements_file = 'requirements.txt'\n",
    "\n",
    "# Convert the file\n",
    "convert_conda_to_requirements(conda_file, requirements_file)\n",
    "print(f\"Converted {conda_file} to {requirements_file}\")\n"
   ]
  }
 ],
 "metadata": {
  "kernelspec": {
   "display_name": "tf-env",
   "language": "python",
   "name": "python3"
  },
  "language_info": {
   "name": "python",
   "version": "3.8.19"
  }
 },
 "nbformat": 4,
 "nbformat_minor": 2
}
